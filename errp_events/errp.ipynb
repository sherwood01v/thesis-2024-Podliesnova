{
 "cells": [
  {
   "cell_type": "code",
   "execution_count": 14,
   "metadata": {
    "metadata": {}
   },
   "outputs": [],
   "source": [
    "import os\n",
    "import numpy as np\n",
    "import pandas as pd\n",
    "from scipy.signal import butter, filtfilt, decimate, resample\n",
    "import tensorflow as tf\n",
    "from tensorflow.keras.models import Sequential\n",
    "from tensorflow.keras.layers import LSTM, Dense, Dropout\n",
    "from sklearn.model_selection import train_test_split\n",
    "from sklearn.preprocessing import StandardScaler"
   ]
  },
  {
   "cell_type": "code",
   "execution_count": 15,
   "metadata": {
    "metadata": {}
   },
   "outputs": [],
   "source": [
    "def butter_bandpass_filter(data, lowcut, highcut, fs, order=5):\n",
    "    nyquist = 0.5 * fs\n",
    "    low = lowcut / nyquist\n",
    "    high = highcut / nyquist\n",
    "    b, a = butter(order, [low, high], btype='band')\n",
    "    return filtfilt(b, a, data)"
   ]
  },
  {
   "cell_type": "code",
   "execution_count": 17,
   "metadata": {
    "metadata": {}
   },
   "outputs": [],
   "source": [
    "def extract_epochs(eeg_data, start_times, fs, epoch_duration=800, target_fs=125):\n",
    "    n_samples = int((epoch_duration / 1000) * fs)\n",
    "    n_samples_target = int((epoch_duration / 1000) * target_fs)\n",
    "    epochs = []\n",
    "    for start_time in start_times:\n",
    "        start_sample = int(start_time * fs)\n",
    "        end_sample = start_sample + n_samples\n",
    "        segment = eeg_data.iloc[start_sample:end_sample]\n",
    "\n",
    "        resampled_segments = np.zeros((n_samples_target, segment.shape[1]))\n",
    "        for channel_index in range(segment.shape[1]):\n",
    "            resampled_segments[:, channel_index] = resample(segment.iloc[:, channel_index], n_samples_target)\n",
    "\n",
    "        # Apply bandpass filter\n",
    "        filtered_segments = np.apply_along_axis(butter_bandpass_filter, 0, resampled_segments, 1, 10, target_fs)\n",
    "\n",
    "        # Normalize to zero mean\n",
    "        normalized_segments = filtered_segments - np.mean(filtered_segments, axis=0)\n",
    "        epochs.append(normalized_segments)\n",
    "\n",
    "    return np.array(epochs)"
   ]
  },
  {
   "cell_type": "code",
   "execution_count": 18,
   "metadata": {
    "metadata": {}
   },
   "outputs": [],
   "source": [
    "def process_eeg_file(file_path, sampling_rate):\n",
    "    eeg_data = pd.read_csv(file_path)\n",
    "    feedback_start_times = eeg_data[eeg_data['FeedBackEvent'] == 1]['Time']\n",
    "    return extract_epochs(eeg_data.iloc[:, 1:-2], feedback_start_times, sampling_rate)"
   ]
  },
  {
   "cell_type": "code",
   "execution_count": 19,
   "metadata": {
    "metadata": {}
   },
   "outputs": [],
   "source": [
    "def format_id(feedback_id):\n",
    "    parts = feedback_id.split('_')\n",
    "    new_id = \"Data_\" + '_'.join(parts[:2])\n",
    "    return new_id\n",
    "\n",
    "def aggregate_datasets(labels_file_path, eeg_files_folder, fs):\n",
    "    labels_data = pd.read_csv(labels_file_path)\n",
    "    all_epochs = []\n",
    "    all_labels = []\n",
    "    last_processed_file_name = \"\"\n",
    "    \n",
    "    for _, row in labels_data.iterrows():\n",
    "        eeg_file_name = format_id(row['IdFeedBack'])\n",
    "        feedback_type = row['Prediction']\n",
    "        eeg_file_path = os.path.join(eeg_files_folder, eeg_file_name + '.csv')\n",
    "        \n",
    "        if eeg_file_name != last_processed_file_name:\n",
    "            if os.path.exists(eeg_file_path):\n",
    "                print(f\"Processing: {eeg_file_name}\")\n",
    "                epochs = process_eeg_file(eeg_file_path, fs)\n",
    "                all_epochs.append(epochs)\n",
    "                last_processed_file_name = eeg_file_name\n",
    "        \n",
    "        all_labels.append(feedback_type) \n",
    "\n",
    "    return np.vstack(all_epochs), np.array(all_labels)"
   ]
  },
  {
   "cell_type": "code",
   "execution_count": 20,
   "metadata": {
    "metadata": {}
   },
   "outputs": [
    {
     "name": "stdout",
     "output_type": "stream",
     "text": [
      "Processing: Data_S02_Sess01\n",
      "Processing: Data_S02_Sess02\n",
      "Processing: Data_S02_Sess03\n",
      "Processing: Data_S02_Sess04\n",
      "Processing: Data_S02_Sess05\n",
      "Processing: Data_S06_Sess01\n",
      "Processing: Data_S06_Sess02\n",
      "Processing: Data_S06_Sess03\n",
      "Processing: Data_S06_Sess04\n",
      "Processing: Data_S06_Sess05\n",
      "Processing: Data_S07_Sess01\n",
      "Processing: Data_S07_Sess02\n",
      "Processing: Data_S07_Sess03\n",
      "Processing: Data_S07_Sess04\n",
      "Processing: Data_S07_Sess05\n",
      "Processing: Data_S11_Sess01\n",
      "Processing: Data_S11_Sess02\n",
      "Processing: Data_S11_Sess03\n",
      "Processing: Data_S11_Sess04\n",
      "Processing: Data_S11_Sess05\n",
      "Processing: Data_S12_Sess01\n",
      "Processing: Data_S12_Sess02\n",
      "Processing: Data_S12_Sess03\n",
      "Processing: Data_S12_Sess04\n",
      "Processing: Data_S12_Sess05\n",
      "Processing: Data_S13_Sess01\n",
      "Processing: Data_S13_Sess02\n",
      "Processing: Data_S13_Sess03\n",
      "Processing: Data_S13_Sess04\n",
      "Processing: Data_S13_Sess05\n",
      "Processing: Data_S14_Sess01\n",
      "Processing: Data_S14_Sess02\n",
      "Processing: Data_S14_Sess03\n",
      "Processing: Data_S14_Sess04\n",
      "Processing: Data_S14_Sess05\n",
      "Processing: Data_S16_Sess01\n",
      "Processing: Data_S16_Sess02\n",
      "Processing: Data_S16_Sess03\n",
      "Processing: Data_S16_Sess04\n",
      "Processing: Data_S16_Sess05\n",
      "Processing: Data_S17_Sess01\n",
      "Processing: Data_S17_Sess02\n",
      "Processing: Data_S17_Sess03\n",
      "Processing: Data_S17_Sess04\n",
      "Processing: Data_S17_Sess05\n",
      "Processing: Data_S18_Sess01\n",
      "Processing: Data_S18_Sess02\n",
      "Processing: Data_S18_Sess03\n",
      "Processing: Data_S18_Sess04\n",
      "Processing: Data_S18_Sess05\n",
      "Processing: Data_S20_Sess01\n",
      "Processing: Data_S20_Sess02\n",
      "Processing: Data_S20_Sess03\n",
      "Processing: Data_S20_Sess04\n",
      "Processing: Data_S20_Sess05\n",
      "Processing: Data_S21_Sess01\n",
      "Processing: Data_S21_Sess02\n",
      "Processing: Data_S21_Sess03\n",
      "Processing: Data_S21_Sess04\n",
      "Processing: Data_S21_Sess05\n",
      "Processing: Data_S22_Sess01\n",
      "Processing: Data_S22_Sess02\n",
      "Processing: Data_S22_Sess03\n",
      "Processing: Data_S22_Sess04\n",
      "Processing: Data_S22_Sess05\n",
      "Processing: Data_S23_Sess01\n",
      "Processing: Data_S23_Sess02\n",
      "Processing: Data_S23_Sess03\n",
      "Processing: Data_S23_Sess04\n",
      "Processing: Data_S23_Sess05\n",
      "Processing: Data_S24_Sess01\n",
      "Processing: Data_S24_Sess02\n",
      "Processing: Data_S24_Sess03\n",
      "Processing: Data_S24_Sess04\n",
      "Processing: Data_S24_Sess05\n",
      "Processing: Data_S26_Sess01\n",
      "Processing: Data_S26_Sess02\n",
      "Processing: Data_S26_Sess03\n",
      "Processing: Data_S26_Sess04\n",
      "Processing: Data_S26_Sess05\n"
     ]
    }
   ],
   "source": [
    "fs = 200\n",
    "labels_file_path = '/home/administrator/BCI/data/kaggle_errp/TrainLabels.csv'\n",
    "eeg_files_folder = '/home/administrator/BCI/data/kaggle_errp/train/'\n",
    "X, y = aggregate_datasets(labels_file_path, eeg_files_folder, fs)"
   ]
  },
  {
   "cell_type": "code",
   "execution_count": 21,
   "metadata": {
    "metadata": {}
   },
   "outputs": [
    {
     "data": {
      "text/plain": [
       "(5440, 100, 56)"
      ]
     },
     "execution_count": 21,
     "metadata": {},
     "output_type": "execute_result"
    }
   ],
   "source": [
    "X.shape"
   ]
  },
  {
   "cell_type": "code",
   "execution_count": 22,
   "metadata": {
    "metadata": {}
   },
   "outputs": [
    {
     "data": {
      "text/plain": [
       "(5440,)"
      ]
     },
     "execution_count": 22,
     "metadata": {},
     "output_type": "execute_result"
    }
   ],
   "source": [
    "y.shape"
   ]
  },
  {
   "cell_type": "code",
   "execution_count": 23,
   "metadata": {
    "metadata": {}
   },
   "outputs": [
    {
     "data": {
      "text/plain": [
       "array([1, 1, 0, ..., 0, 0, 1])"
      ]
     },
     "execution_count": 23,
     "metadata": {},
     "output_type": "execute_result"
    }
   ],
   "source": [
    "y"
   ]
  },
  {
   "cell_type": "code",
   "execution_count": 24,
   "metadata": {
    "metadata": {}
   },
   "outputs": [
    {
     "name": "stdout",
     "output_type": "stream",
     "text": [
      "Original class distribution: Counter({1: 3850, 0: 1590})\n",
      "New class distribution: Counter({0: 1590, 1: 1590})\n"
     ]
    }
   ],
   "source": [
    "import numpy as np\n",
    "from collections import Counter\n",
    "from sklearn.utils import resample\n",
    "\n",
    "print(\"Original class distribution:\", Counter(y))\n",
    "\n",
    "min_class_size = np.min([np.sum(y == cl) for cl in np.unique(y)])\n",
    "\n",
    "X_undersampled = []\n",
    "y_undersampled = []\n",
    "\n",
    "for cl in np.unique(y):\n",
    "    class_indices = np.where(y == cl)[0]\n",
    "    \n",
    "    undersample_indices = resample(class_indices, replace=False, n_samples=min_class_size, random_state=42)\n",
    "    \n",
    "    X_undersampled.append(X[undersample_indices])\n",
    "    y_undersampled.append(y[undersample_indices])\n",
    "\n",
    "X_undersampled = np.vstack(X_undersampled)\n",
    "y_undersampled = np.concatenate(y_undersampled)\n",
    "\n",
    "print(\"New class distribution:\", Counter(y_undersampled))"
   ]
  },
  {
   "cell_type": "code",
   "execution_count": 25,
   "metadata": {
    "metadata": {}
   },
   "outputs": [
    {
     "data": {
      "text/plain": [
       "(3180, 100, 56)"
      ]
     },
     "execution_count": 25,
     "metadata": {},
     "output_type": "execute_result"
    }
   ],
   "source": [
    "X_undersampled.shape"
   ]
  },
  {
   "cell_type": "code",
   "execution_count": 26,
   "metadata": {
    "metadata": {}
   },
   "outputs": [
    {
     "name": "stdout",
     "output_type": "stream",
     "text": [
      "[0 0 0 ... 1 1 1]\n"
     ]
    }
   ],
   "source": [
    "print(y_undersampled)"
   ]
  },
  {
   "cell_type": "code",
   "execution_count": 37,
   "metadata": {
    "metadata": {}
   },
   "outputs": [
    {
     "name": "stdout",
     "output_type": "stream",
     "text": [
      "Epoch 1/30\n",
      "40/40 [==============================] - 5s 66ms/step - loss: 0.7351 - accuracy: 0.5122\n",
      "Epoch 2/30\n",
      "40/40 [==============================] - 2s 62ms/step - loss: 0.7185 - accuracy: 0.4961\n",
      "Epoch 3/30\n",
      "40/40 [==============================] - 2s 58ms/step - loss: 0.7091 - accuracy: 0.5197\n",
      "Epoch 4/30\n",
      "40/40 [==============================] - 3s 66ms/step - loss: 0.6956 - accuracy: 0.5338\n",
      "Epoch 5/30\n",
      "40/40 [==============================] - 3s 76ms/step - loss: 0.6882 - accuracy: 0.5645\n",
      "Epoch 6/30\n",
      "40/40 [==============================] - 4s 93ms/step - loss: 0.6848 - accuracy: 0.5802\n",
      "Epoch 7/30\n",
      "40/40 [==============================] - 3s 78ms/step - loss: 0.6771 - accuracy: 0.5825\n",
      "Epoch 8/30\n",
      "40/40 [==============================] - 3s 77ms/step - loss: 0.6681 - accuracy: 0.5998\n",
      "Epoch 9/30\n",
      "40/40 [==============================] - 3s 75ms/step - loss: 0.6521 - accuracy: 0.6285\n",
      "Epoch 10/30\n",
      "40/40 [==============================] - 3s 71ms/step - loss: 0.6487 - accuracy: 0.6152\n",
      "Epoch 11/30\n",
      "40/40 [==============================] - 3s 73ms/step - loss: 0.6517 - accuracy: 0.6203\n",
      "Epoch 12/30\n",
      "40/40 [==============================] - 3s 73ms/step - loss: 0.6248 - accuracy: 0.6580\n",
      "Epoch 13/30\n",
      "40/40 [==============================] - 3s 72ms/step - loss: 0.6214 - accuracy: 0.6623\n",
      "Epoch 14/30\n",
      "40/40 [==============================] - 3s 74ms/step - loss: 0.6169 - accuracy: 0.6714\n",
      "Epoch 15/30\n",
      "40/40 [==============================] - 3s 72ms/step - loss: 0.6276 - accuracy: 0.6690\n",
      "Epoch 16/30\n",
      "40/40 [==============================] - 3s 73ms/step - loss: 0.6126 - accuracy: 0.6749\n",
      "Epoch 17/30\n",
      "40/40 [==============================] - 3s 72ms/step - loss: 0.6307 - accuracy: 0.6600\n",
      "Epoch 18/30\n",
      "40/40 [==============================] - 3s 72ms/step - loss: 0.6149 - accuracy: 0.6761\n",
      "Epoch 19/30\n",
      "40/40 [==============================] - 3s 69ms/step - loss: 0.6068 - accuracy: 0.6773\n",
      "Epoch 20/30\n",
      "40/40 [==============================] - 3s 75ms/step - loss: 0.5952 - accuracy: 0.6981\n",
      "Epoch 21/30\n",
      "40/40 [==============================] - 3s 68ms/step - loss: 0.5975 - accuracy: 0.6796\n",
      "Epoch 22/30\n",
      "40/40 [==============================] - 3s 75ms/step - loss: 0.5838 - accuracy: 0.6946\n",
      "Epoch 23/30\n",
      "40/40 [==============================] - 3s 67ms/step - loss: 0.5786 - accuracy: 0.7068\n",
      "Epoch 24/30\n",
      "40/40 [==============================] - 3s 70ms/step - loss: 0.5919 - accuracy: 0.6942\n",
      "Epoch 25/30\n",
      "40/40 [==============================] - 3s 73ms/step - loss: 0.5761 - accuracy: 0.7083\n",
      "Epoch 26/30\n",
      "40/40 [==============================] - 3s 75ms/step - loss: 0.5740 - accuracy: 0.6926\n",
      "Epoch 27/30\n",
      "40/40 [==============================] - 3s 70ms/step - loss: 0.5650 - accuracy: 0.7142\n",
      "Epoch 28/30\n",
      "40/40 [==============================] - 3s 74ms/step - loss: 0.5477 - accuracy: 0.7229\n",
      "Epoch 29/30\n",
      "40/40 [==============================] - 3s 71ms/step - loss: 0.5584 - accuracy: 0.7244\n",
      "Epoch 30/30\n",
      "40/40 [==============================] - 3s 70ms/step - loss: 0.5386 - accuracy: 0.7390\n",
      "20/20 [==============================] - 1s 16ms/step - loss: 0.6306 - accuracy: 0.6667\n",
      "Test Accuracy: 0.67\n"
     ]
    }
   ],
   "source": [
    "import numpy as np\n",
    "from sklearn.model_selection import train_test_split\n",
    "from scipy.signal import resample\n",
    "from sklearn.preprocessing import StandardScaler\n",
    "from tensorflow.keras.models import Sequential\n",
    "from tensorflow.keras.layers import LSTM, Dropout, Dense\n",
    "from tensorflow.keras.optimizers import Adam\n",
    "\n",
    "channel_indices = [0, 1, 6, 8, 12, 14, 24, 26, 30, 32, 42, 44, 48, 50, 54, 55]\n",
    "\n",
    "X_selected_channels = X_undersampled[:, :, channel_indices]\n",
    "\n",
    "scaler = StandardScaler()\n",
    "X_scaled = scaler.fit_transform(X_selected_channels.reshape(-1, X_selected_channels.shape[-1])).reshape(X_selected_channels.shape)\n",
    "\n",
    "X_train, X_test, y_train, y_test = train_test_split(X_scaled, y_undersampled, test_size=0.2, random_state=42, stratify=y_undersampled)\n",
    "\n",
    "model = Sequential([\n",
    "    LSTM(100, input_shape=(X_train.shape[1], X_train.shape[2])),\n",
    "    Dropout(0.5),\n",
    "    Dense(1, activation='sigmoid')\n",
    "])\n",
    "\n",
    "optimizer = Adam(learning_rate=0.001)\n",
    "\n",
    "model.compile(optimizer=optimizer, loss='binary_crossentropy', metrics=['accuracy'])\n",
    "model.fit(X_train, y_train, epochs=30, batch_size=64)\n",
    "\n",
    "loss, accuracy = model.evaluate(X_test, y_test)\n",
    "print(f'Test Accuracy: {accuracy:.2f}')"
   ]
  },
  {
   "cell_type": "code",
   "execution_count": 38,
   "metadata": {
    "metadata": {}
   },
   "outputs": [
    {
     "data": {
      "text/plain": [
       "['lstm_errp_under.pkl']"
      ]
     },
     "execution_count": 38,
     "metadata": {},
     "output_type": "execute_result"
    }
   ],
   "source": [
    "import joblib\n",
    "\n",
    "joblib.dump(model, \"lstm_errp_under.pkl\")"
   ]
  },
  {
   "cell_type": "code",
   "execution_count": 39,
   "metadata": {
    "metadata": {}
   },
   "outputs": [
    {
     "name": "stdout",
     "output_type": "stream",
     "text": [
      "20/20 [==============================] - 1s 16ms/step\n",
      "Confusion Matrix:\n",
      "[[217 101]\n",
      " [111 207]]\n",
      "\n",
      "Classification Report:\n",
      "              precision    recall  f1-score   support\n",
      "\n",
      "     Class 0       0.66      0.68      0.67       318\n",
      "     Class 1       0.67      0.65      0.66       318\n",
      "\n",
      "    accuracy                           0.67       636\n",
      "   macro avg       0.67      0.67      0.67       636\n",
      "weighted avg       0.67      0.67      0.67       636\n",
      "\n",
      "Test Accuracy: 0.67\n"
     ]
    }
   ],
   "source": [
    "import numpy as np\n",
    "from sklearn.metrics import confusion_matrix, classification_report\n",
    "\n",
    "y_pred_probs = model.predict(X_test)\n",
    "\n",
    "y_pred = (y_pred_probs > 0.5).astype(int).flatten()\n",
    "\n",
    "cm = confusion_matrix(y_test, y_pred)\n",
    "print(\"Confusion Matrix:\")\n",
    "print(cm)\n",
    "\n",
    "print(\"\\nClassification Report:\")\n",
    "print(classification_report(y_test, y_pred, target_names=['Class 0', 'Class 1']))\n",
    "\n",
    "print(f'Test Accuracy: {accuracy:.2f}')"
   ]
  },
  {
   "cell_type": "code",
   "execution_count": 40,
   "metadata": {
    "metadata": {}
   },
   "outputs": [
    {
     "data": {
      "text/plain": [
       "(100, 16)"
      ]
     },
     "execution_count": 40,
     "metadata": {},
     "output_type": "execute_result"
    }
   ],
   "source": [
    "X_selected_channels[0, :, :].shape"
   ]
  },
  {
   "cell_type": "code",
   "execution_count": 41,
   "metadata": {
    "metadata": {}
   },
   "outputs": [
    {
     "name": "stdout",
     "output_type": "stream",
     "text": [
      "1/1 [==============================] - 0s 25ms/step\n",
      "Prediction for the segment: [[0.31907555]]\n"
     ]
    }
   ],
   "source": [
    "segment = X_selected_channels[3, :, :]\n",
    "\n",
    "segment_scaled = scaler.transform(segment.reshape(-1, 16)).reshape(1, 100, 16)\n",
    "\n",
    "prediction = model.predict(segment_scaled)\n",
    "print(\"Prediction for the segment:\", prediction)"
   ]
  },
  {
   "cell_type": "code",
   "execution_count": 18,
   "metadata": {
    "metadata": {}
   },
   "outputs": [
    {
     "data": {
      "text/plain": [
       "(3180, 100)"
      ]
     },
     "execution_count": 18,
     "metadata": {},
     "output_type": "execute_result"
    }
   ],
   "source": [
    "X_undersampled[:,:,0].shape"
   ]
  },
  {
   "cell_type": "code",
   "execution_count": 19,
   "metadata": {
    "metadata": {}
   },
   "outputs": [
    {
     "data": {
      "text/plain": [
       "3180"
      ]
     },
     "execution_count": 19,
     "metadata": {},
     "output_type": "execute_result"
    }
   ],
   "source": [
    "len(y_undersampled)"
   ]
  },
  {
   "cell_type": "code",
   "execution_count": 20,
   "metadata": {
    "metadata": {}
   },
   "outputs": [
    {
     "name": "stdout",
     "output_type": "stream",
     "text": [
      "Test Set Balanced Accuracy: 0.5941783367525941\n",
      "\n",
      "Test Set Classification Report:\n",
      "               precision    recall  f1-score   support\n",
      "\n",
      "           0       0.62      0.60      0.61       333\n",
      "           1       0.57      0.59      0.58       303\n",
      "\n",
      "    accuracy                           0.59       636\n",
      "   macro avg       0.59      0.59      0.59       636\n",
      "weighted avg       0.60      0.59      0.59       636\n",
      "\n"
     ]
    },
    {
     "data": {
      "image/png": "[encoded data removed]",
      "text/plain": [
       "<Figure size 640x480 with 2 Axes>"
      ]
     },
     "metadata": {},
     "output_type": "display_data"
    }
   ],
   "source": [
    "import numpy as np\n",
    "import matplotlib.pyplot as plt\n",
    "from sklearn.ensemble import RandomForestClassifier\n",
    "from sklearn.model_selection import train_test_split\n",
    "import joblib\n",
    "from sklearn.metrics import classification_report, accuracy_score, balanced_accuracy_score, confusion_matrix, ConfusionMatrixDisplay\n",
    "\n",
    "X = X_undersampled[:,:,0]\n",
    "\n",
    "X_train, X_test, y_train, y_test = train_test_split(X, y_undersampled, test_size=0.2, random_state=42)\n",
    "\n",
    "X_train_flattened = X_train.reshape(X_train.shape[0], -1)\n",
    "X_test_flattened = X_test.reshape(X_test.shape[0], -1)\n",
    "\n",
    "clf = RandomForestClassifier(\n",
    "    n_estimators=100, \n",
    "    max_depth=None,\n",
    "    random_state=42\n",
    ")\n",
    "clf.fit(X_train_flattened, y_train)\n",
    "\n",
    "y_test_pred = clf.predict(X_test_flattened)\n",
    "test_balanced_accuracy = balanced_accuracy_score(y_test, y_test_pred)\n",
    "print(f\"Test Set Balanced Accuracy:\", test_balanced_accuracy)\n",
    "print(f\"\\nTest Set Classification Report:\\n\", classification_report(y_test, y_test_pred))\n",
    "\n",
    "cm_test = confusion_matrix(y_test, y_test_pred)\n",
    "disp_test = ConfusionMatrixDisplay(confusion_matrix=cm_test)\n",
    "disp_test.plot()\n",
    "plt.title(f'Test Set Confusion Matrix')\n",
    "plt.show()"
   ]
  },
  {
   "cell_type": "code",
   "execution_count": 21,
   "metadata": {
    "metadata": {}
   },
   "outputs": [
    {
     "data": {
      "text/plain": [
       "['rf_errp_under.pkl']"
      ]
     },
     "execution_count": 21,
     "metadata": {},
     "output_type": "execute_result"
    }
   ],
   "source": [
    "import joblib\n",
    "\n",
    "joblib.dump(clf, \"rf_errp_under.pkl\")"
   ]
  },
  {
   "cell_type": "code",
   "execution_count": 13,
   "metadata": {},
   "outputs": [
    {
     "name": "stdout",
     "output_type": "stream",
     "text": [
      "Accuracy: 0.56\n"
     ]
    },
    {
     "data": {
      "image/png": "[encoded data removed]",
      "text/plain": [
       "<Figure size 640x480 with 2 Axes>"
      ]
     },
     "metadata": {},
     "output_type": "display_data"
    },
    {
     "name": "stdout",
     "output_type": "stream",
     "text": [
      "              precision    recall  f1-score   support\n",
      "\n",
      "           0       0.57      0.75      0.65       333\n",
      "           1       0.58      0.37      0.45       303\n",
      "\n",
      "    accuracy                           0.57       636\n",
      "   macro avg       0.57      0.56      0.55       636\n",
      "weighted avg       0.57      0.57      0.55       636\n",
      "\n"
     ]
    }
   ],
   "source": [
    "import numpy as np\n",
    "import matplotlib.pyplot as plt\n",
    "from sklearn.svm import SVC\n",
    "from sklearn.model_selection import train_test_split\n",
    "import joblib\n",
    "from sklearn.metrics import classification_report, accuracy_score, balanced_accuracy_score, confusion_matrix, ConfusionMatrixDisplay\n",
    "\n",
    "X = X_undersampled[:,:,0]\n",
    "\n",
    "X_train, X_test, y_train, y_test = train_test_split(X, y_undersampled, test_size=0.2, random_state=42)\n",
    "\n",
    "X_train_flattened = X_train.reshape(X_train.shape[0], -1)\n",
    "X_test_flattened = X_test.reshape(X_test.shape[0], -1)\n",
    "\n",
    "svm_classifier = SVC(kernel='rbf', C=20, degree=30)\n",
    "\n",
    "svm_classifier.fit(X_train_flattened, y_train)\n",
    "\n",
    "y_pred = svm_classifier.predict(X_test)\n",
    "\n",
    "accuracy = balanced_accuracy_score(y_test, y_pred)\n",
    "print(f'Accuracy: {accuracy:.2f}')\n",
    "\n",
    "cm = confusion_matrix(y_test, y_pred)\n",
    "disp = ConfusionMatrixDisplay(confusion_matrix=cm)\n",
    "disp.plot(cmap=plt.cm.Blues)\n",
    "plt.title('Confusion Matrix')\n",
    "plt.show()\n",
    "\n",
    "print(classification_report(y_test, y_pred))"
   ]
  }
 ],
 "metadata": {
  "kernelspec": {
   "display_name": "Python 3",
   "language": "python",
   "name": "python3"
  },
  "language_info": {
   "codemirror_mode": {
    "name": "ipython",
    "version": 3
   },
   "file_extension": ".py",
   "mimetype": "text/x-python",
   "name": "python",
   "nbconvert_exporter": "python",
   "pygments_lexer": "ipython3",
   "version": "3.8.10"
  }
 },
 "nbformat": 4,
 "nbformat_minor": 2
}
